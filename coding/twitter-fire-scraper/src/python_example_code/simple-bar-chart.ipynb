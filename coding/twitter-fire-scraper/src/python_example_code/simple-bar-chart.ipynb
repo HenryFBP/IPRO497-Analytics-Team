{
 "cells": [
  {
   "cell_type": "code",
   "execution_count": 25,
   "metadata": {},
   "outputs": [],
   "source": [
    "# This is to force using installed packages for testing purposes.\n",
    "from __future__ import absolute_import\n",
    "\n",
    "import os\n",
    "\n",
    "from pprint import pprint\n",
    "\n",
    "import numpy\n",
    "import matplotlib\n",
    "\n",
    "import twitter_fire_scraper\n",
    "\n",
    "from tweepy import Status"
   ]
  },
  {
   "cell_type": "code",
   "execution_count": 2,
   "metadata": {},
   "outputs": [
    {
     "name": "stdout",
     "output_type": "stream",
     "text": [
      "You can fill these in yourself and avoid having to use `secrets.json` inside of your home folder.\n",
      "WARNING: API key autodetection is inadvisable.\n"
     ]
    }
   ],
   "source": [
    "# Get a Twitter developer account and get an API key!\n",
    "\n",
    "from twitter_fire_scraper.scraper import Scraper\n",
    "from twitter_fire_scraper.twitter import TwitterAuthentication\n",
    "\n",
    "twauth = TwitterAuthentication(\n",
    "    consumer_key=\"FILL ME IN!\",\n",
    "    consumer_secret=\"FILL ME IN!\",\n",
    "    access_token=\"FILL ME IN!\",\n",
    "    access_token_secret=\"FILL ME IN!\",\n",
    ")\n",
    "\n",
    "print(\"You can fill these in yourself and avoid having to use `secrets.json` inside of your home folder.\")\n",
    "\n",
    "if twauth.consumer_key == \"FILL ME IN!\":\n",
    "    # If they have not set up the twauth variable,\n",
    "    \n",
    "    if not os.path.exists(os.path.expanduser(\"~/secrets.json\")):\n",
    "        # If autodetect of twitter API keys will surely fail,\n",
    "        \n",
    "        print(\n",
    "            \"This demo will not work without either a valid TwitterAuthentication object or a file that has your secrets in it.\")\n",
    "        print(\n",
    "            \"Either make a file at `{}` containing your keys, or put them directly into the TwitterAuthentication object.\".format(\n",
    "                os.path.expanduser(\"~\\\\secrets.json\")))\n",
    "        print(\"Read the README about this to know more.\")\n",
    "        print(\"Aborting!\")\n",
    "        %pycat\n",
    "        exit(1)\n",
    "    else:\n",
    "        # Autodetectof twitter API keys should work.\n",
    "        twauth = TwitterAuthentication.autodetect_twitter_auth()\n"
   ]
  },
  {
   "cell_type": "code",
   "execution_count": 3,
   "metadata": {},
   "outputs": [],
   "source": [
    "search_terms = {\"chicagofire\", \"#chicagofire\", \"chicago fire\"}"
   ]
  },
  {
   "cell_type": "code",
   "execution_count": 4,
   "metadata": {},
   "outputs": [
    {
     "name": "stdout",
     "output_type": "stream",
     "text": [
      "#chicagofire got 3 hits\n",
      "chicago fire got 3 hits\n",
      "chicagofire got 3 hits\n"
     ]
    }
   ],
   "source": [
    "scraper = Scraper(twitter_authentication=twauth)\n",
    "\n",
    "# Only gets results if it doesn't exist. This is to limit how much we ping the API.\n",
    "# This can be thwarted by taking line 8 out of a try-catch, or restarting the Python kernel.\n",
    "try:\n",
    "    results\n",
    "except NameError as e:\n",
    "    results = scraper.scrape_terms(search_terms, count=3)\n",
    "\n",
    "for category, statuses in results.items():\n",
    "    print(\"{} got {} hits\".format(category, len(statuses)))"
   ]
  },
  {
   "cell_type": "code",
   "execution_count": null,
   "metadata": {},
   "outputs": [],
   "source": [
    "# Yeah, don't worry about this. To add terms, just put more strings in the 'red text' area.\n",
    "tv_terms = \\\n",
    "[term for term in (\"\"\"\n",
    "nbc\n",
    "netflix\n",
    "hbo\n",
    "\n",
    "#chicagofire\n",
    "\n",
    "tv\n",
    "series\n",
    "show\n",
    "season\n",
    "\"\"\")\\\n",
    ".split(\"\\n\") if term != '']\n",
    "\n",
    "print(tv_terms)\n",
    "\n",
    "def is_a_tv_tweet(status: Status) -> bool:\n",
    "    \"\"\"A naive way of telling if a tweet or user from a Status is related in any way to the \"Chicago Fire\" TV show.\"\"\"\n",
    "    for tv_term in tv_terms:\n",
    "        \n",
    "        tv_term = tv_term.lower()\n",
    "        \n",
    "        if tv_term in status.text.lower():\n",
    "            return True\n",
    "        \n",
    "        if tv_term in status.author.name.lower():\n",
    "            return True\n",
    "        \n",
    "        if tv_term in status.author.screen_name.lower():\n",
    "            return True\n",
    "        \n",
    "    return False"
   ]
  },
  {
   "cell_type": "code",
   "execution_count": 32,
   "metadata": {},
   "outputs": [
    {
     "name": "stdout",
     "output_type": "stream",
     "text": [
      "Categorical breakdown of tweets that ARE about the Chicago Fire TV show:\n",
      "{'#chicagofire': 3, 'chicago fire': 0, 'chicagofire': 2}\n",
      "Categorical breakdown of tweets that ARE NOT about the Chicago Fire TV show:\n",
      "{'#chicagofire': 0, 'chicago fire': 3, 'chicagofire': 1}\n"
     ]
    }
   ],
   "source": [
    "tv_tweets = {}\n",
    "not_tv_tweets = {}\n",
    "\n",
    "for category, statuses in results.items():\n",
    "\n",
    "    if category not in tv_tweets:\n",
    "        tv_tweets[category] = 0\n",
    "\n",
    "    if category not in not_tv_tweets:\n",
    "        not_tv_tweets[category] = 0\n",
    "        \n",
    "    for status in statuses:\n",
    "        if is_a_tv_tweet(status):\n",
    "            tv_tweets[category] += 1\n",
    "        else:\n",
    "            not_tv_tweets[category] += 1\n",
    "\n",
    "print(\"Categorical breakdown of tweets that ARE about the Chicago Fire TV show:\")\n",
    "pprint(tv_tweets)\n",
    "\n",
    "print(\"Categorical breakdown of tweets that ARE NOT about the Chicago Fire TV show:\")\n",
    "pprint(not_tv_tweets)"
   ]
  },
  {
   "cell_type": "code",
   "execution_count": null,
   "metadata": {},
   "outputs": [],
   "source": []
  }
 ],
 "metadata": {
  "kernelspec": {
   "display_name": "Python 3",
   "language": "python",
   "name": "python3"
  },
  "language_info": {
   "codemirror_mode": {
    "name": "ipython",
    "version": 3
   },
   "file_extension": ".py",
   "mimetype": "text/x-python",
   "name": "python",
   "nbconvert_exporter": "python",
   "pygments_lexer": "ipython3",
   "version": "3.7.2"
  }
 },
 "nbformat": 4,
 "nbformat_minor": 2
}
