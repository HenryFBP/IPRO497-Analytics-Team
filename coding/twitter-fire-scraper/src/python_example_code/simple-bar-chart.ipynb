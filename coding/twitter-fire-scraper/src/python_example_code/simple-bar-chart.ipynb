{
 "cells": [
  {
   "cell_type": "markdown",
   "metadata": {},
   "source": [
    "# Bar chart of #chicagofire tagged tweets\n",
    "\n",
    "This example shows how to use the twitter_fire_scraper package to collect 300 tweets with keywords like \"chicagofire\", \"fire\", \"chicago\", etc. and looking at how many of those tweets are talking about the Chicago Fire TV show VS how many are not."
   ]
  },
  {
   "cell_type": "code",
   "execution_count": 1,
   "metadata": {},
   "outputs": [],
   "source": [
    "# This is to force using installed packages for testing purposes.\n",
    "from __future__ import absolute_import\n",
    "\n",
    "import os\n",
    "\n",
    "from pprint import pprint\n",
    "\n",
    "import numpy as np\n",
    "import matplotlib.pyplot as plt\n",
    "\n",
    "import twitter_fire_scraper\n",
    "\n",
    "from tweepy import Status"
   ]
  },
  {
   "cell_type": "code",
   "execution_count": 2,
   "metadata": {},
   "outputs": [
    {
     "name": "stdout",
     "output_type": "stream",
     "text": [
      "You can fill these in yourself and avoid having to use `secrets.json` inside of your home folder.\n",
      "WARNING: API key autodetection is inadvisable.\n"
     ]
    }
   ],
   "source": [
    "# Get a Twitter developer account and get an API key!\n",
    "\n",
    "from twitter_fire_scraper.scraper import Scraper\n",
    "from twitter_fire_scraper.twitter import TwitterAuthentication\n",
    "\n",
    "twauth = TwitterAuthentication(\n",
    "    consumer_key=\"FILL ME IN!\",\n",
    "    consumer_secret=\"FILL ME IN!\",\n",
    "    access_token=\"FILL ME IN!\",\n",
    "    access_token_secret=\"FILL ME IN!\",\n",
    ")\n",
    "\n",
    "print(\"You can fill these in yourself and avoid having to use `secrets.json` inside of your home folder.\")\n",
    "\n",
    "if twauth.consumer_key == \"FILL ME IN!\":\n",
    "    # If they have not set up the twauth variable,\n",
    "    \n",
    "    if not os.path.exists(os.path.expanduser(\"~/secrets.json\")):\n",
    "        # If autodetect of twitter API keys will surely fail,\n",
    "        \n",
    "        print(\n",
    "            \"This demo will not work without either a valid TwitterAuthentication object or a file that has your secrets in it.\")\n",
    "        print(\n",
    "            \"Either make a file at `{}` containing your keys, or put them directly into the TwitterAuthentication object.\".format(\n",
    "                os.path.expanduser(\"~\\\\secrets.json\")))\n",
    "        print(\"Read the README about this to know more.\")\n",
    "        print(\"Aborting!\")\n",
    "        %pycat\n",
    "        exit(1)\n",
    "    else:\n",
    "        # Autodetectof twitter API keys should work.\n",
    "        twauth = TwitterAuthentication.autodetect_twitter_auth()\n"
   ]
  },
  {
   "cell_type": "markdown",
   "metadata": {},
   "source": [
    "# Gathering data\n",
    "\n",
    "Here, we scrape the top 300 terms about the following subjects to see how much people use the #chicagofire hashtags and terms to talk about the new TV show by the same name."
   ]
  },
  {
   "cell_type": "code",
   "execution_count": 3,
   "metadata": {},
   "outputs": [],
   "source": [
    "search_terms = {\"chicagofire\", \"#chicagofire\", \"chicago fire\", \"fire\", \"chicago\"}"
   ]
  },
  {
   "cell_type": "code",
   "execution_count": 4,
   "metadata": {},
   "outputs": [
    {
     "name": "stderr",
     "output_type": "stream",
     "text": [
      "Rate limit reached. Sleeping for: 77\n"
     ]
    },
    {
     "name": "stdout",
     "output_type": "stream",
     "text": [
      "chicago        : 300 hits\n",
      "chicagofire    : 300 hits\n",
      "#chicagofire   : 300 hits\n",
      "chicago fire   : 300 hits\n",
      "fire           : 300 hits\n"
     ]
    }
   ],
   "source": [
    "scraper = Scraper(twitter_authentication=twauth)\n",
    "\n",
    "# Only gets results if it doesn't exist. This is to limit how much we ping the API.\n",
    "# This can be thwarted by taking line 8 out of a try-catch, or restarting the Python kernel.\n",
    "try:\n",
    "    results\n",
    "except NameError as e:\n",
    "    results = scraper.scrape_terms(search_terms, count=300)\n",
    "\n",
    "for category, statuses in results.items():\n",
    "    print(\"{:15s}: {} hits\".format(category, len(statuses)))"
   ]
  },
  {
   "cell_type": "markdown",
   "metadata": {},
   "source": [
    "# Naive classification of tweets'\n",
    "\n",
    "This section will define a function that tells if a tweet is actually talking about the Chicago Fire TV show in a very naive manner.\n",
    "\n",
    "If a tweet has \"NBC\", \"Netflix\", \"TV\", \"show\", \"series\", etc. inside of it, it will be classified as a tweet that IS talking about the Chicago Fire TV show."
   ]
  },
  {
   "cell_type": "code",
   "execution_count": 5,
   "metadata": {},
   "outputs": [],
   "source": [
    "# Yeah, don't worry about this. To add terms, just put more strings in the 'red text' area.\n",
    "tv_terms = \\\n",
    "[term for term in (\"\"\"\n",
    "nbc\n",
    "netflix\n",
    "hbo\n",
    "\n",
    "tv\n",
    "series\n",
    "show\n",
    "season\n",
    "\"\"\")\\\n",
    ".split(\"\\n\") if term != '']\n",
    "\n",
    "def is_a_tv_tweet(status: Status) -> bool:\n",
    "    \"\"\"A naive way of telling if a tweet or user from a Status is related in any way to the \"Chicago Fire\" TV show.\"\"\"\n",
    "    for tv_term in tv_terms:\n",
    "        \n",
    "        tv_term = tv_term.lower()\n",
    "        \n",
    "        if tv_term in status.text.lower():\n",
    "            return True\n",
    "        \n",
    "        if tv_term in status.author.name.lower():\n",
    "            return True\n",
    "        \n",
    "        if tv_term in status.author.screen_name.lower():\n",
    "            return True\n",
    "        \n",
    "    return False"
   ]
  },
  {
   "cell_type": "markdown",
   "metadata": {},
   "source": [
    "# Explanation of naive TV tweet classifier\n",
    "\n",
    "A tweet can be said to be a \"TV tweet\" if it contains any of the following words in its text, author's screen name, or author's username:"
   ]
  },
  {
   "cell_type": "code",
   "execution_count": 6,
   "metadata": {},
   "outputs": [
    {
     "name": "stdout",
     "output_type": "stream",
     "text": [
      "['nbc', 'netflix', 'hbo', 'tv', 'series', 'show', 'season']\n"
     ]
    }
   ],
   "source": [
    "print(tv_terms)"
   ]
  },
  {
   "cell_type": "code",
   "execution_count": 7,
   "metadata": {},
   "outputs": [
    {
     "name": "stdout",
     "output_type": "stream",
     "text": [
      "Categorical breakdown of tweets that ARE about the Chicago Fire TV show:\n",
      "chicago        : 27 hits\n",
      "chicagofire    : 84 hits\n",
      "#chicagofire   : 139 hits\n",
      "chicago fire   : 41 hits\n",
      "fire           : 86 hits\n",
      "\n",
      "Categorical breakdown of tweets that ARE NOT about the Chicago Fire TV show:\n",
      "chicago        : 273 hits\n",
      "chicagofire    : 216 hits\n",
      "#chicagofire   : 161 hits\n",
      "chicago fire   : 259 hits\n",
      "fire           : 214 hits\n"
     ]
    }
   ],
   "source": [
    "tv_tweets = {}\n",
    "not_tv_tweets = {}\n",
    "\n",
    "for category, statuses in results.items():\n",
    "\n",
    "    if category not in tv_tweets:\n",
    "        tv_tweets[category] = 0\n",
    "\n",
    "    if category not in not_tv_tweets:\n",
    "        not_tv_tweets[category] = 0\n",
    "        \n",
    "    for status in statuses:\n",
    "        if is_a_tv_tweet(status):\n",
    "            tv_tweets[category] += 1\n",
    "        else:\n",
    "            not_tv_tweets[category] += 1\n",
    "\n",
    "print(\"Categorical breakdown of tweets that ARE about the Chicago Fire TV show:\")\n",
    "for key, value in tv_tweets.items():\n",
    "    print(\"{:15s}: {} hits\".format(key, value))\n",
    "\n",
    "print()\n",
    "    \n",
    "print(\"Categorical breakdown of tweets that ARE NOT about the Chicago Fire TV show:\")\n",
    "for key, value in not_tv_tweets.items():\n",
    "    print(\"{:15s}: {} hits\".format(key, value))\n"
   ]
  },
  {
   "cell_type": "code",
   "execution_count": 9,
   "metadata": {},
   "outputs": [
    {
     "data": {
      "image/png": "[encoded data removed]",
      "text/plain": [
       "<Figure size 432x288 with 1 Axes>"
      ]
     },
     "metadata": {
      "needs_background": "light"
     },
     "output_type": "display_data"
    }
   ],
   "source": [
    "n_groups = len(results.keys())\n",
    "tv_tweet_hits = tv_tweets.values()\n",
    "not_tv_tweet_hits = not_tv_tweets.values()\n",
    " \n",
    "# create plot\n",
    "fig, ax = plt.subplots()\n",
    "index = np.arange(n_groups)\n",
    "bar_width = 0.35\n",
    "opacity = 0.8\n",
    " \n",
    "rects1 = plt.bar(index, tv_tweet_hits, bar_width,\n",
    "alpha=opacity,\n",
    "color='r',\n",
    "label='TV')\n",
    " \n",
    "rects2 = plt.bar(index + bar_width, not_tv_tweet_hits, bar_width,\n",
    "alpha=opacity,\n",
    "color='b',\n",
    "label='Not TV')\n",
    " \n",
    "plt.xlabel('Tweet Category')\n",
    "plt.ylabel('Tweets')\n",
    "plt.title('Tweet TV show relevancy')\n",
    "plt.xticks(index + bar_width, results.keys())\n",
    "plt.legend()\n",
    " \n",
    "plt.tight_layout()\n",
    "plt.show()\n"
   ]
  }
 ],
 "metadata": {
  "kernelspec": {
   "display_name": "Python 3",
   "language": "python",
   "name": "python3"
  },
  "language_info": {
   "codemirror_mode": {
    "name": "ipython",
    "version": 3
   },
   "file_extension": ".py",
   "mimetype": "text/x-python",
   "name": "python",
   "nbconvert_exporter": "python",
   "pygments_lexer": "ipython3",
   "version": "3.7.2"
  }
 },
 "nbformat": 4,
 "nbformat_minor": 2
}
